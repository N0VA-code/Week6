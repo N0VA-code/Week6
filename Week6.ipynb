{
  "nbformat": 4,
  "nbformat_minor": 0,
  "metadata": {
    "colab": {
      "provenance": [],
      "authorship_tag": "ABX9TyNlUgbsFwqJb/nFi8IwHeKT",
      "include_colab_link": true
    },
    "kernelspec": {
      "name": "python3",
      "display_name": "Python 3"
    },
    "language_info": {
      "name": "python"
    }
  },
  "cells": [
    {
      "cell_type": "markdown",
      "metadata": {
        "id": "view-in-github",
        "colab_type": "text"
      },
      "source": [
        "<a href=\"https://colab.research.google.com/github/N0VA-code/Week6/blob/main/Week6.ipynb\" target=\"_parent\"><img src=\"https://colab.research.google.com/assets/colab-badge.svg\" alt=\"Open In Colab\"/></a>"
      ]
    },
    {
      "cell_type": "code",
      "execution_count": null,
      "metadata": {
        "id": "DP81FPg7_ksB"
      },
      "outputs": [],
      "source": [
        "!pip install ray\n",
        "!pip install modin[ray]\n",
        "!pip install pandas\n",
        "!pip install dask\n",
        "!pip install pyyaml\n",
        "\n",
        "import pandas as pd\n",
        "import dask.dataframe as dd\n",
        "import modin.pandas as mp\n",
        "import ray\n",
        "import yaml\n",
        "import os\n",
        "import time\n",
        "import gzip\n",
        "from google.colab import drive\n",
        "\n",
        "drive.mount('/content/drive')\n",
        "\n",
        "file_path = '/content/drive/My Drive/unbalaced_20_80_dataset.csv'\n",
        "\n",
        "def read_with_pandas(file_path):\n",
        "    start_time = time.time()\n",
        "    df_pandas = pd.read_csv(file_path)\n",
        "    elapsed_time = time.time() - start_time\n",
        "    print(\"Pandas Time:\", elapsed_time)\n",
        "    return df_pandas\n",
        "\n",
        "def read_with_dask(file_path):\n",
        "    start_time = time.time()\n",
        "    df_dask = dd.read_csv(file_path)\n",
        "    elapsed_time = time.time() - start_time\n",
        "    print(\"Dask Time:\", elapsed_time)\n",
        "    return df_dask\n",
        "\n",
        "ray.shutdown()\n",
        "ray.init(ignore_reinit_error=True)\n",
        "\n",
        "def read_with_modin(file_path):\n",
        "    start_time = time.time()\n",
        "    df_modin = mp.read_csv(file_path)\n",
        "    elapsed_time = time.time() - start_time\n",
        "    print(\"Modin Time:\", elapsed_time)\n",
        "    return df_modin\n",
        "\n",
        "def validate_columns(df):\n",
        "    df.columns = df.columns.str.replace(' ', '_').str.replace('[^\\\\w\\\\s]', '')\n",
        "    return df\n",
        "\n",
        "def create_yaml(df, yaml_path):\n",
        "    schema = {'columns': df.columns.tolist()}\n",
        "    with open(yaml_path, 'w') as file:\n",
        "        yaml.dump(schema, file, default_flow_style=False)\n",
        "\n",
        "def validate_with_yaml(df, yaml_path):\n",
        "    with open(yaml_path, 'r') as file:\n",
        "        schema = yaml.safe_load(file)\n",
        "    assert schema['columns'] == df.columns.tolist(), \"Columns do not match with YAML file.\"\n",
        "\n",
        "def write_and_summarize(df, output_path):\n",
        "    df.to_csv(output_path, sep='|', index=False, compression='gzip')\n",
        "    summary = {\n",
        "        'rows': len(df),\n",
        "        'columns': len(df.columns),\n",
        "        'size': os.path.getsize(output_path)\n",
        "    }\n",
        "    return summary\n",
        "\n",
        "yaml_path = '/content/schema.yaml'\n",
        "output_path = '/content/output_file.gz'\n",
        "\n",
        "df = read_with_pandas(file_path)\n",
        "df = validate_columns(df)\n",
        "\n",
        "create_yaml(df, yaml_path)\n",
        "validate_with_yaml(df, yaml_path)\n",
        "\n",
        "summary = write_and_summarize(df, output_path)\n",
        "\n",
        "print(summary)\n"
      ]
    }
  ]
}